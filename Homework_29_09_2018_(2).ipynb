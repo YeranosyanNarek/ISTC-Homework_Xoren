{
 "cells": [
  {
   "cell_type": "code",
   "execution_count": 9,
   "metadata": {},
   "outputs": [
    {
     "name": "stdout",
     "output_type": "stream",
     "text": [
      "anna\n"
     ]
    },
    {
     "data": {
      "text/plain": [
       "True"
      ]
     },
     "execution_count": 9,
     "metadata": {},
     "output_type": "execute_result"
    }
   ],
   "source": [
    "def func(arg):\n",
    "    a = ['*']\n",
    "    k = 0\n",
    "    b = len(list(str))\n",
    "    a.extend(list(arg))\n",
    "    l = len(a)\n",
    "    for i in range(1, int(l / 2) + 1):\n",
    "        if a[i] == a[-i]:\n",
    "            k = k + 1\n",
    "            i += 1\n",
    "        else:\n",
    "            break\n",
    "    if k == int(l/2) or b == 0 or b == 1:\n",
    "        return True\n",
    "    else:\n",
    "        return False\n",
    "\n",
    "arg = input()\n",
    "func(arg)\n",
    "\n",
    "\n"
   ]
  },
  {
   "cell_type": "code",
   "execution_count": null,
   "metadata": {},
   "outputs": [],
   "source": []
  }
 ],
 "metadata": {
  "kernelspec": {
   "display_name": "Python 3",
   "language": "python",
   "name": "python3"
  },
  "language_info": {
   "codemirror_mode": {
    "name": "ipython",
    "version": 3
   },
   "file_extension": ".py",
   "mimetype": "text/x-python",
   "name": "python",
   "nbconvert_exporter": "python",
   "pygments_lexer": "ipython3",
   "version": "3.6.5"
  }
 },
 "nbformat": 4,
 "nbformat_minor": 2
}
